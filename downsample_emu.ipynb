{
 "cells": [
  {
   "cell_type": "code",
   "execution_count": null,
   "metadata": {
    "collapsed": true
   },
   "outputs": [],
   "source": [
    "\n",
    "import subprocess\n",
    "\n",
    "%config IPCompleter.greedy=True\n",
    "\n",
    "import os\n",
    "import pandas as pd\n",
    "\n",
    "data = pd.DataFrame(columns=['File Path', 'Row Count'])\n",
    "out_path = \"\"\n",
    "\n",
    "file_list =  [file for file in os.listdir(out_path) if file.endswith('.fastq')]"
   ]
  },
  {
   "cell_type": "code",
   "execution_count": null,
   "outputs": [],
   "source": [
    "for file in file_list:\n",
    "    file_path = os.path.join(out_path, file) # Get the full file path\n",
    "    with open(file_path, 'r') as f:\n",
    "        lines = f.readlines() # Read all lines in the file\n",
    "        row_count = len(lines) # Count the number of lines in the file\n",
    "    # Append the file path and row count to the DataFrame\n",
    "    data = data.append({'File Path': file_path, 'Row Count': row_count}, ignore_index=True)\n",
    "\n",
    "# Display the resulting DataFrame\n",
    "print(data)"
   ],
   "metadata": {
    "collapsed": false
   }
  },
  {
   "cell_type": "code",
   "execution_count": null,
   "outputs": [],
   "source": [
    "print(data.iloc[:,1].max())\n",
    "values = [5000, 10000, 20000, 50000, 75000, 100000, 125000, 150000, 175000, 200000, 225000, 250000, 500000, 750000, 1000000, 1500000, 2000000, 2500000]\n",
    "result = []\n",
    "for index, row in data.iterrows():\n",
    "    col2_value = row['Row Count']\n",
    "    largest_value = None\n",
    "    for value in values:\n",
    "        if value < col2_value and value % 2 == 0:\n",
    "            largest_value = value\n",
    "    result.append(largest_value)\n",
    "\n",
    "data['greater_than'] = result\n",
    "\n",
    "print(data)\n",
    "\n",
    "data.to_csv(\"grouped.files.tsv\", sep=\"\\t\")"
   ],
   "metadata": {
    "collapsed": false
   }
  },
  {
   "cell_type": "code",
   "execution_count": null,
   "outputs": [],
   "source": [
    "##run se"
   ],
   "metadata": {
    "collapsed": false
   }
  }
 ],
 "metadata": {
  "kernelspec": {
   "display_name": "Python 3",
   "language": "python",
   "name": "python3"
  },
  "language_info": {
   "codemirror_mode": {
    "name": "ipython",
    "version": 2
   },
   "file_extension": ".py",
   "mimetype": "text/x-python",
   "name": "python",
   "nbconvert_exporter": "python",
   "pygments_lexer": "ipython2",
   "version": "2.7.6"
  }
 },
 "nbformat": 4,
 "nbformat_minor": 0
}
